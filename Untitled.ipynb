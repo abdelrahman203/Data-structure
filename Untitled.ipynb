{
  "nbformat": 4,
  "nbformat_minor": 0,
  "metadata": {
    "colab": {
      "provenance": [],
      "mount_file_id": "1VL4o8sS-5xytaYVlZHqFvUVlrxWchjP8",
      "authorship_tag": "ABX9TyOM/DIFbTWcQiIC5mAOXW94",
      "include_colab_link": true
    },
    "kernelspec": {
      "name": "python3",
      "display_name": "Python 3"
    },
    "language_info": {
      "name": "python"
    }
  },
  "cells": [
    {
      "cell_type": "markdown",
      "metadata": {
        "id": "view-in-github",
        "colab_type": "text"
      },
      "source": [
        "<a href=\"https://colab.research.google.com/github/abdelrahman203/Data-structure/blob/main/Untitled.ipynb\" target=\"_parent\"><img src=\"https://colab.research.google.com/assets/colab-badge.svg\" alt=\"Open In Colab\"/></a>"
      ]
    },
    {
      "cell_type": "code",
      "execution_count": 34,
      "metadata": {
        "id": "c5I0hoaOKRus"
      },
      "outputs": [],
      "source": [
        "import pandas as pd\n",
        "from sklearn.model_selection import train_test_split\n",
        "from sklearn.naive_bayes import GaussianNB\n",
        "from sklearn.neighbors import KNeighborsClassifier\n",
        "from sklearn.metrics import accuracy_score\n",
        "from sklearn.preprocessing import MinMaxScaler\n",
        "from sklearn.metrics import accuracy_score, precision_score, recall_score, f1_score"
      ]
    },
    {
      "cell_type": "code",
      "source": [
        "# Load dataset\n",
        "df = pd.read_csv('/content/drive/MyDrive/Colab Notebooks/Pima Indians Diabetes Database/diabetes.csv')\n"
      ],
      "metadata": {
        "id": "NWgIVU8KKx94"
      },
      "execution_count": 35,
      "outputs": []
    },
    {
      "cell_type": "code",
      "source": [
        "# Get number of instances and features\n",
        "num_instances, num_features = df.shape\n",
        "print(\"Number of instances:\", num_instances)\n",
        "print(\"Number of features:\", num_features - 1) # Subtract 1 for the target variable\n",
        "\n",
        "# Get data types of each column\n",
        "print(\"Data types:\")\n",
        "print(df.dtypes)"
      ],
      "metadata": {
        "colab": {
          "base_uri": "https://localhost:8080/"
        },
        "id": "BV8LeZSXLK4k",
        "outputId": "436cf20d-9539-4eeb-b74a-ed58f9991d8f"
      },
      "execution_count": 36,
      "outputs": [
        {
          "output_type": "stream",
          "name": "stdout",
          "text": [
            "Number of instances: 768\n",
            "Number of features: 8\n",
            "Data types:\n",
            "Pregnancies                   int64\n",
            "Glucose                       int64\n",
            "BloodPressure                 int64\n",
            "SkinThickness                 int64\n",
            "Insulin                       int64\n",
            "BMI                         float64\n",
            "DiabetesPedigreeFunction    float64\n",
            "Age                           int64\n",
            "Outcome                       int64\n",
            "dtype: object\n"
          ]
        }
      ]
    },
    {
      "cell_type": "code",
      "source": [
        "# Load dataset\n",
        "df = pd.read_csv('/content/drive/MyDrive/Colab Notebooks/Pima Indians Diabetes Database/diabetes.csv')\n",
        "\n",
        "\n",
        "# Scale the features\n",
        "scaler = MinMaxScaler()\n",
        "df[df.columns[:-1]] = scaler.fit_transform(df[df.columns[:-1]])\n",
        "\n",
        "\n",
        "# Replace missing values with the mean value of the feature\n",
        "df[df.columns[:-1]] = df[df.columns[:-1]].replace(0, df[df.columns[:-1]].mean())\n",
        "\n",
        "\n",
        "# Rename the features\n",
        "df = df.rename(columns={'Pregnancies': 'Number of Pregnancies', \n",
        "                        'Glucose': 'Glucose Level',\n",
        "                        'BloodPressure': 'Blood Pressure',\n",
        "                        'SkinThickness': 'Skin Thickness',\n",
        "                        'Insulin': 'Insulin Level',\n",
        "                        'BMI': 'Body Mass Index',\n",
        "                        'DiabetesPedigreeFunction': 'Diabetes Pedigree Function',\n",
        "                        'Age': 'Age in Years',\n",
        "                        'Outcome': 'Has Diabetes'})\n",
        "\n",
        "\n",
        "\n",
        "# Print the encoded dataset\n",
        "print(df.head())"
      ],
      "metadata": {
        "colab": {
          "base_uri": "https://localhost:8080/"
        },
        "id": "KiMN1orkNwlB",
        "outputId": "dfc89efc-bd1a-4607-dc6e-24b05f06bb30"
      },
      "execution_count": 40,
      "outputs": [
        {
          "output_type": "stream",
          "name": "stdout",
          "text": [
            "   Number of Pregnancies  Glucose Level  Blood Pressure  Skin Thickness  \\\n",
            "0               0.352941       0.743719        0.590164        0.353535   \n",
            "1               0.058824       0.427136        0.540984        0.292929   \n",
            "2               0.470588       0.919598        0.524590        0.207439   \n",
            "3               0.058824       0.447236        0.540984        0.232323   \n",
            "4               0.226180       0.688442        0.327869        0.353535   \n",
            "\n",
            "   Insulin Level  Body Mass Index  Diabetes Pedigree Function  Age in Years  \\\n",
            "0       0.094326         0.500745                    0.234415      0.483333   \n",
            "1       0.094326         0.396423                    0.116567      0.166667   \n",
            "2       0.094326         0.347243                    0.253629      0.183333   \n",
            "3       0.111111         0.418778                    0.038002      0.204015   \n",
            "4       0.198582         0.642325                    0.943638      0.200000   \n",
            "\n",
            "   Has Diabetes  \n",
            "0             1  \n",
            "1             0  \n",
            "2             1  \n",
            "3             0  \n",
            "4             1  \n"
          ]
        }
      ]
    },
    {
      "cell_type": "code",
      "source": [
        "# Load dataset\n",
        "df = pd.read_csv('/content/drive/MyDrive/Colab Notebooks/Pima Indians Diabetes Database/diabetes.csv')\n",
        "\n",
        "# Split dataset into training and testing sets\n",
        "X_train, X_test, y_train, y_test = train_test_split(df.drop('Outcome', axis=1), df['Outcome'], test_size=0.2)\n",
        "\n",
        "# Naive Bayes\n",
        "nb = GaussianNB()\n",
        "nb.fit(X_train, y_train)\n",
        "nb_pred = nb.predict(X_test)\n",
        "nb_acc = accuracy_score(y_test, nb_pred)\n",
        "nb_precision = precision_score(y_test, nb_pred)\n",
        "nb_recall = recall_score(y_test, nb_pred)\n",
        "nb_f1_score = f1_score(y_test, nb_pred)\n",
        "print(\"Naive Bayes accuracy:\", nb_acc)\n",
        "print(\"Naive Bayes precision:\", nb_precision)\n",
        "print(\"Naive Bayes recall:\", nb_recall)\n",
        "print(\"Naive Bayes F1-score:\", nb_f1_score)\n",
        "\n",
        "# KNN\n",
        "knn = KNeighborsClassifier()\n",
        "knn.fit(X_train, y_train)\n",
        "knn_pred = knn.predict(X_test)\n",
        "knn_acc = accuracy_score(y_test, knn_pred)\n",
        "knn_precision = precision_score(y_test, knn_pred)\n",
        "knn_recall = recall_score(y_test, knn_pred)\n",
        "knn_f1_score = f1_score(y_test, knn_pred)\n",
        "print(\"KNN accuracy:\", knn_acc)\n",
        "print(\"KNN precision:\", knn_precision)\n",
        "print(\"KNN recall:\", knn_recall)\n",
        "print(\"KNN F1-score:\", knn_f1_score)"
      ],
      "metadata": {
        "colab": {
          "base_uri": "https://localhost:8080/"
        },
        "id": "gxF5mIUSey91",
        "outputId": "3573a4db-920c-4b1c-89e4-1b41aa810da3"
      },
      "execution_count": 41,
      "outputs": [
        {
          "output_type": "stream",
          "name": "stdout",
          "text": [
            "Naive Bayes accuracy: 0.7337662337662337\n",
            "Naive Bayes precision: 0.625\n",
            "Naive Bayes recall: 0.5660377358490566\n",
            "Naive Bayes F1-score: 0.594059405940594\n",
            "KNN accuracy: 0.7272727272727273\n",
            "KNN precision: 0.6341463414634146\n",
            "KNN recall: 0.49056603773584906\n",
            "KNN F1-score: 0.5531914893617021\n"
          ]
        }
      ]
    },
    {
      "cell_type": "code",
      "source": [],
      "metadata": {
        "id": "-27zaXEhQezo"
      },
      "execution_count": null,
      "outputs": []
    }
  ]
}